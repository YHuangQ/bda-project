{
 "cells": [
  {
   "cell_type": "markdown",
   "metadata": {},
   "source": [
    "# BDA Project\n",
    "\n",
    "This is a sketch for the final python notebook that we are going to submit."
   ]
  },
  {
   "cell_type": "code",
   "execution_count": 12,
   "metadata": {},
   "outputs": [
    {
     "name": "stdout",
     "output_type": "stream",
     "text": [
      "[[0.83857273 0.3519234  0.09615382 0.68929281]\n",
      " [0.2051633  0.76087083 0.29103349 0.48448679]\n",
      " [0.37795997 0.25040213 0.82496983 0.1631473 ]\n",
      " [0.16173063 0.06677135 0.32245608 0.48476149]\n",
      " [0.81213632 0.26993057 0.07792519 0.72893685]\n",
      " [0.76432717 0.69715555 0.36580635 0.20512632]\n",
      " [0.71091257 0.87690831 0.48507067 0.95820359]\n",
      " [0.3891748  0.7642684  0.50882457 0.73995821]\n",
      " [0.29012064 0.0325037  0.53658147 0.69609708]\n",
      " [0.02914469 0.05953407 0.81886591 0.15415961]]\n"
     ]
    }
   ],
   "source": [
    "# here some code\n",
    "\n",
    "import numpy as np\n",
    "data = np.random.rand(10,4)\n",
    "\n",
    "print(data)"
   ]
  },
  {
   "cell_type": "code",
   "execution_count": null,
   "metadata": {},
   "outputs": [],
   "source": []
  }
 ],
 "metadata": {
  "kernelspec": {
   "display_name": "Python 3",
   "language": "python",
   "name": "python3"
  },
  "language_info": {
   "codemirror_mode": {
    "name": "ipython",
    "version": 3
   },
   "file_extension": ".py",
   "mimetype": "text/x-python",
   "name": "python",
   "nbconvert_exporter": "python",
   "pygments_lexer": "ipython3",
   "version": "3.6.5"
  }
 },
 "nbformat": 4,
 "nbformat_minor": 2
}
